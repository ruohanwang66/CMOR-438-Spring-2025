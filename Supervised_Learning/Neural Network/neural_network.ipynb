{
 "cells": [
  {
   "cell_type": "markdown",
   "id": "90bb7133",
   "metadata": {},
   "source": [
    "# Implementation\n",
    "\n",
    "- I\n",
    "\n",
    "- Not only will this be a good machine learning lesson, but also for life in general because I cannot tell apart cloths for the life of me\n"
   ]
  },
  {
   "cell_type": "markdown",
   "id": "c1e6981b",
   "metadata": {},
   "source": [
    "# 1 - Importing libraries and dataset\n",
    "\n",
    "- we import the necessary libraries and dataset which is stored in the tensorflow library."
   ]
  },
  {
   "cell_type": "code",
   "execution_count": 3,
   "id": "a5731e88",
   "metadata": {},
   "outputs": [],
   "source": [
    "import matplotlib.pyplot as plt\n",
    "import numpy as np\n",
    "import pandas as pd\n",
    "from tensorflow import keras\n",
    "from keras.datasets import fashion_mnist\n",
    "from keras.utils import to_categorical\n",
    "\n",
    "# Load data\n",
    "(X_train, y_train), (X_test, y_test) = fashion_mnist.load_data()"
   ]
  },
  {
   "cell_type": "markdown",
   "id": "89339770",
   "metadata": {},
   "source": [
    "# 2. Data size and plot sample images\n",
    "\n",
    "- we will plot some sample images of what each catagory looks like, in the format that the dataset is in. "
   ]
  },
  {
   "cell_type": "code",
   "execution_count": 2,
   "id": "656b12b3",
   "metadata": {},
   "outputs": [
    {
     "name": "stdout",
     "output_type": "stream",
     "text": [
      "Train shape: (60000, 28, 28), Test shape: (10000, 28, 28)\n",
      "Unique labels: [0 1 2 3 4 5 6 7 8 9]\n"
     ]
    },
    {
     "data": {
      "image/png": "[encoded data removed]",
      "text/plain": [
       "<Figure size 1000x500 with 10 Axes>"
      ]
     },
     "metadata": {},
     "output_type": "display_data"
    }
   ],
   "source": [
    "# Check shape and basic stats\n",
    "print(f\"Train shape: {X_train.shape}, Test shape: {X_test.shape}\")\n",
    "print(f\"Unique labels: {np.unique(y_train)}\")\n",
    "\n",
    "# Plot some sample images\n",
    "class_names = ['T-shirt/top', 'Trouser', 'Pullover', 'Dress', 'Coat',\n",
    "               'Sandal', 'Shirt', 'Sneaker', 'Bag', 'Ankle boot']\n",
    "\n",
    "plt.figure(figsize=(10,5))\n",
    "for i in range(10):\n",
    "    plt.subplot(2, 5, i+1)\n",
    "    plt.imshow(X_train[i], cmap='gray')\n",
    "    plt.title(class_names[y_train[i]])\n",
    "    plt.axis('off')\n",
    "plt.tight_layout()\n",
    "plt.show()"
   ]
  },
  {
   "cell_type": "markdown",
   "id": "511a9d65",
   "metadata": {},
   "source": [
    "# 3. Data normalization, flattening, and one-hot encode catagorical lables\n",
    "\n",
    "- we normalize the data by scaling pixel values to 0 - 1, flatten the matrix into a useble column vector, and use one-hot encoding to convert categorical labels to numerical ones."
   ]
  },
  {
   "cell_type": "code",
   "execution_count": 6,
   "id": "6ccca168",
   "metadata": {},
   "outputs": [],
   "source": [
    "# Normalize: scale pixel values to [0, 1]\n",
    "X_train = X_train / 255.0\n",
    "X_test = X_test / 255.0\n",
    "\n",
    "# Flatten the training images into column vectors (784 x 1) and one-hot encode labels\n",
    "flat_train_X = []\n",
    "onehot_train_y = []\n",
    "\n",
    "for x, y in zip(X_train, y_train):\n",
    "    flat_train_X.append(x.flatten().reshape(784, 1))\n",
    "    temp_vec = np.zeros((10, 1))\n",
    "    temp_vec[y][0] = 1.0\n",
    "    onehot_train_y.append(temp_vec)\n",
    "\n",
    "# Flatten and encode test data\n",
    "flat_test_X = []\n",
    "onehot_test_y = []\n",
    "\n",
    "for x, y in zip(X_test, y_test):\n",
    "    flat_test_X.append(x.flatten().reshape(784, 1))\n",
    "    temp_vec = np.zeros((10, 1))\n",
    "    temp_vec[y][0] = 1.0\n",
    "    onehot_test_y.append(temp_vec)"
   ]
  },
  {
   "cell_type": "markdown",
   "id": "f6a71728",
   "metadata": {},
   "source": [
    "# 4 - Defining necessary functions\n",
    "\n",
    "- Sigmoid - used as the activation function\n",
    "\n",
    "- MSE - used as cost function\n",
    "\n",
    "- A weight initialization function using He initialization"
   ]
  },
  {
   "cell_type": "code",
   "execution_count": 18,
   "id": "195dd7dc",
   "metadata": {},
   "outputs": [],
   "source": [
    "def sigmoid(z):\n",
    "  return 1.0/(1.0+np.exp(-z))\n",
    "\n",
    "def d_sigmoid(z):\n",
    "  return sigmoid(z)*(1.0-sigmoid(z))\n",
    "\n",
    "def mse(a, y):\n",
    "  return .5*sum((a[i]-y[i])**2 for i in range(10))[0]"
   ]
  },
  {
   "cell_type": "code",
   "execution_count": 8,
   "id": "ee3ff144",
   "metadata": {},
   "outputs": [],
   "source": [
    "def initialize_weights(layers = [784, 60, 60, 10]):\n",
    "    # The following Python lists will contain numpy matrices\n",
    "    # connected the layers in the neural network \n",
    "    W = [[0.0]]\n",
    "    B = [[0.0]]\n",
    "    for i in range(1, len(layers)):\n",
    "        # The scalling factor is something I found in a research paper :)\n",
    "        w_temp = np.random.randn(layers[i], layers[i-1])*np.sqrt(2/layers[i-1])\n",
    "        b_temp = np.random.randn(layers[i], 1)*np.sqrt(2/layers[i-1])\n",
    "    \n",
    "        W.append(w_temp)\n",
    "        B.append(b_temp)\n",
    "    return W, B"
   ]
  },
  {
   "cell_type": "markdown",
   "id": "7be060f5",
   "metadata": {},
   "source": [
    "# 5. Manual feedforward with dimention of 3\n",
    "\n",
    "- we will manually implement a feedforward process with dimention of 3 to check for the dimentionality of each step"
   ]
  },
  {
   "cell_type": "code",
   "execution_count": 10,
   "id": "ff83e7e2",
   "metadata": {},
   "outputs": [
    {
     "name": "stdout",
     "output_type": "stream",
     "text": [
      "np.shape(a0) = (784, 1) \n",
      "\n",
      "np.shape(W[1]) = (60, 784)\n",
      "np.shape(z1) = (60, 1)\n",
      "np.shape(a1) = (60, 1) \n",
      "\n",
      "np.shape(W[2]) = (60, 60)\n",
      "np.shape(z2) = (60, 1)\n",
      "np.shape(a2) = (60, 1) \n",
      "\n",
      "np.shape(W[3]) = (10, 60)\n",
      "np.shape(z3) = (10, 1)\n",
      "np.shape(a3) = (10, 1) \n",
      "\n",
      "Prediction: np.argmax(y_hat) = 2\n",
      "Target Label: np.argmax(yi) = 9\n",
      "mse(y_hat, yi) = 1.5033165901027123\n"
     ]
    }
   ],
   "source": [
    "W, B = initialize_weights()\n",
    "\n",
    "xi = flat_train_X[0]\n",
    "yi = onehot_train_y[0]\n",
    "a0 = xi\n",
    "\n",
    "print(f\"np.shape(a0) = {np.shape(a0)} \\n\")\n",
    "\n",
    "z1 = W[1] @ a0 + B[1]\n",
    "a1 = sigmoid(z1)\n",
    "\n",
    "print(f\"np.shape(W[1]) = {np.shape(W[1])}\")\n",
    "print(f\"np.shape(z1) = {np.shape(z1)}\")\n",
    "print(f\"np.shape(a1) = {np.shape(a1)} \\n\")\n",
    "\n",
    "z2 = W[2] @ a1 + B[2]\n",
    "a2 = sigmoid(z2)\n",
    "\n",
    "print(f\"np.shape(W[2]) = {np.shape(W[2])}\")\n",
    "print(f\"np.shape(z2) = {np.shape(z2)}\")\n",
    "print(f\"np.shape(a2) = {np.shape(a2)} \\n\")\n",
    "\n",
    "z3 = W[3] @ a2 + B[3]\n",
    "a3 = sigmoid(z3)\n",
    "y_hat = a3\n",
    "print(f\"np.shape(W[3]) = {np.shape(W[3])}\")\n",
    "print(f\"np.shape(z3) = {np.shape(z3)}\")\n",
    "print(f\"np.shape(a3) = {np.shape(a3)} \\n\")\n",
    "\n",
    "\n",
    "print(f\"Prediction: np.argmax(y_hat) = {np.argmax(y_hat)}\")\n",
    "print(f\"Target Label: np.argmax(yi) = {np.argmax(yi)}\")\n",
    "print(f\"mse(y_hat, yi) = {mse(y_hat, yi)}\")"
   ]
  },
  {
   "cell_type": "markdown",
   "id": "1cc90511",
   "metadata": {},
   "source": [
    "** Remarks **\n",
    "\n",
    "- looking at the dimentions of each propagation, this confirms the weight initialization and matrix operations are dimensionally correct.\n",
    "\n",
    "- however, the model predicted the label wrong(getting 2 instead of 9), which makes sense as this is right after initialization with no training.\n",
    "\n",
    "- we will now automate this forward pass process in a function\n",
    "\n"
   ]
  },
  {
   "cell_type": "markdown",
   "id": "1ecb2754",
   "metadata": {},
   "source": [
    "# 6. Forward pass as a function\n",
    "\n",
    "- we will implement the above steps as a callable function\n"
   ]
  },
  {
   "cell_type": "code",
   "execution_count": 12,
   "id": "c0f70901",
   "metadata": {},
   "outputs": [
    {
     "name": "stdout",
     "output_type": "stream",
     "text": [
      "Prediction: np.argmax(y_hat) = 2\n",
      "Target Label: np.argmax(yi) = 9\n",
      "mse(y_hat, yi) = 1.5033165901027123\n"
     ]
    }
   ],
   "source": [
    "def forward_pass(W, B, xi, predict_vector = False):\n",
    "    Z = [[0.0]]\n",
    "    A = [xi]\n",
    "    L = len(W) - 1\n",
    "    for i in range(1, L + 1):\n",
    "        z = W[i] @ A[i-1] + B[i]\n",
    "        Z.append(z)\n",
    "        \n",
    "        a = sigmoid(z)\n",
    "        A.append(a)\n",
    "        \n",
    "    if predict_vector == False:\n",
    "        return Z, A\n",
    "    else:\n",
    "        return A[-1]\n",
    "\n",
    "def predict(W, B, xi):\n",
    "    _, A = forward_pass(W, B, xi)\n",
    "    return np.argmax(A[-1])\n",
    "\n",
    "y_hat = forward_pass(W, B, flat_train_X[0], predict_vector=True)\n",
    "print(f\"Prediction: np.argmax(y_hat) = {np.argmax(y_hat)}\")\n",
    "print(f\"Target Label: np.argmax(yi) = {np.argmax(yi)}\")\n",
    "print(f\"mse(y_hat, yi) = {mse(y_hat, yi)}\")\n"
   ]
  },
  {
   "cell_type": "markdown",
   "id": "db8b65ec",
   "metadata": {},
   "source": [
    "** Remarks **\n",
    "- Worked just as before\n"
   ]
  },
  {
   "cell_type": "markdown",
   "id": "3642e6a0",
   "metadata": {},
   "source": [
    "# 7 - Define aditional functions\n",
    "\n",
    "- random_experiment - making a prediction on a random data point\n",
    "\n",
    "- MSE - computes the error over an entire set of features and labels"
   ]
  },
  {
   "cell_type": "code",
   "execution_count": 13,
   "id": "f8043cc0",
   "metadata": {},
   "outputs": [],
   "source": [
    "def random_experiment(W, B, data_features, data_labels):\n",
    "    i = np.random.randint(len(data_features))\n",
    "    print(f\"Actual label: {np.argmax(data_labels[i])}\")\n",
    "    print(f\"Predicted label: {predict(W, B, data_features[i])}\")\n",
    "    \n",
    "\n",
    "def MSE(W, B, X, y):\n",
    "    cost = 0.0\n",
    "    m = 0\n",
    "    for xi, yi in zip(X, y):\n",
    "        a = forward_pass(W, B, xi, predict_vector = True)\n",
    "        cost += mse(a, yi)\n",
    "        m+=1\n",
    "    return cost/m"
   ]
  },
  {
   "cell_type": "code",
   "execution_count": 15,
   "id": "11307483",
   "metadata": {},
   "outputs": [
    {
     "name": "stdout",
     "output_type": "stream",
     "text": [
      "MSE(W, B, flat_train_X, onehot_train_y) = 1.391090986066199 \n",
      "\n",
      "Actual label: 7\n",
      "Predicted label: 2\n"
     ]
    }
   ],
   "source": [
    "print(f\"MSE(W, B, flat_train_X, onehot_train_y) = {MSE(W, B, flat_train_X, onehot_train_y)} \\n\")\n",
    "\n",
    "random_experiment(W, B, flat_train_X, onehot_train_y)"
   ]
  },
  {
   "cell_type": "markdown",
   "id": "fffb8a6d",
   "metadata": {},
   "source": [
    "# 8 - Write custom class for Dense Network Object\n",
    "\n",
    "- here we create a class that initializes the weights and bias for the network, and implements stochastic gradient descent"
   ]
  },
  {
   "cell_type": "code",
   "execution_count": 16,
   "id": "fd3019b5",
   "metadata": {},
   "outputs": [],
   "source": [
    "class DenseNetwork(object):\n",
    "    def __init__(self, layers = [784, 60, 60, 10]):\n",
    "        self.layers = layers\n",
    "        self.W, self.B = initialize_weights(layers = self.layers)\n",
    "\n",
    "    def train(self, X_train, y_train, alpha = 0.046, epochs = 4):\n",
    "        # Print the initial mean squared error\n",
    "        self.errors_ = [MSE(self.W, self.B, X_train, y_train)]\n",
    "        print(f\"Starting Cost = {self.errors_[0]}\")\n",
    "\n",
    "        # Find your sample size\n",
    "        sample_size = len(X_train)\n",
    "\n",
    "        # Find the number of non-input layers.\n",
    "        L = len(self.layers) - 1\n",
    "\n",
    "        # For each epoch perform stochastic gradient descent. \n",
    "        for k in range(epochs):\n",
    "            # Loop over each (xi, yi) training pair of data.\n",
    "            for xi, yi in zip(X_train, y_train):\n",
    "                # Use the forward pass function defined before\n",
    "                # and find the preactivation and postactivation values.\n",
    "                Z, A = forward_pass(self.W, self.B, xi)\n",
    "\n",
    "                # Store the errors in a dictionary for clear interpretation\n",
    "                # of computation of these values.\n",
    "                deltas = dict()\n",
    "\n",
    "                # Compute the output error \n",
    "                output_error = (A[L] - yi)*d_sigmoid(Z[L])\n",
    "                deltas[L] = output_error\n",
    "\n",
    "                # Loop from L-1 to 1. Recall the right entry of the range function \n",
    "                # is non-inclusive. \n",
    "                for i in range(L-1, 0, -1):\n",
    "                    # Compute the node errors at each hidden layer\n",
    "                    deltas[i] = (self.W[i+1].T @ deltas[i+1])*d_sigmoid(Z[i])\n",
    "\n",
    "                # Loop over each hidden layer and the output layer to perform gradient \n",
    "                # descent. \n",
    "                for i in range(1, L+1):\n",
    "                    self.W[i] -= alpha*deltas[i] @ A[i-1].T\n",
    "                    self.B[i] -= alpha*deltas[i]\n",
    "\n",
    "            # Show the user the cost over all training examples\n",
    "            self.errors_.append(MSE(self.W, self.B, X_train, y_train))   \n",
    "            print(f\"{k + 1}-Epoch Cost = {self.errors_[-1]}\")\n",
    "    \n",
    "\n",
    "    def predict(self, xi):\n",
    "        depth = len(self.layers)\n",
    "        _, A = forward_pass(self.W, self.B, xi)\n",
    "        return np.argmax(A[-1])\n"
   ]
  },
  {
   "cell_type": "markdown",
   "id": "096e8fbc",
   "metadata": {},
   "source": [
    "# 9 - Create DenseNetowrk object and train model\n",
    "\n",
    "- we will make an DenseNetwork object, have it make a prediction on a randomly selected picture, and then train the model over epochs to see if it does any better."
   ]
  },
  {
   "cell_type": "code",
   "execution_count": 20,
   "id": "d1212a49",
   "metadata": {},
   "outputs": [
    {
     "name": "stdout",
     "output_type": "stream",
     "text": [
      "MSE(net.W, net.B, flat_train_X, onehot_train_y) = 1.0585467184410955 \n",
      "\n",
      "predicted digit is: 7\n",
      "actual digit is: 5\n"
     ]
    },
    {
     "data": {
      "image/png": "[encoded data removed]",
      "text/plain": [
       "<Figure size 800x800 with 1 Axes>"
      ]
     },
     "metadata": {},
     "output_type": "display_data"
    }
   ],
   "source": [
    "# Initialize a network with 784 input nodes, two hidden layers with 60 nodes each \n",
    "# and a output layer with 10 nodes. \n",
    "net = DenseNetwork(layers = [784, 120, 145, 120, 10])\n",
    "\n",
    "# Check the mean squared error before training \n",
    "print(f\"MSE(net.W, net.B, flat_train_X, onehot_train_y) = {MSE(net.W, net.B, flat_train_X, onehot_train_y)} \\n\")\n",
    "\n",
    "# Make a random prediction before training\n",
    "i = np.random.randint(0, len(flat_test_X))\n",
    "prediction = net.predict(flat_test_X[i])\n",
    "print(f\"predicted digit is: {prediction}\")\n",
    "print(f\"actual digit is: {np.argmax(onehot_test_y[i])}\")\n",
    "plt.figure(figsize=(8, 8))\n",
    "plt.imshow(X_test[i], cmap=\"gray\")\n",
    "plt.show()"
   ]
  },
  {
   "cell_type": "markdown",
   "id": "f0af29f4",
   "metadata": {},
   "source": [
    "# 9.1 - Training and plotting the MSE over epochs\n",
    "\n",
    "### *VERY SLOW; TAKES AROUND 1 MINUTE TO FINISH*\n",
    "\n",
    "- we train the model using stochastic gradient descent, record the MSE over each epoch, and finally plot the MSE's over epochs"
   ]
  },
  {
   "cell_type": "code",
   "execution_count": null,
   "id": "ac00d2bb",
   "metadata": {},
   "outputs": [
    {
     "name": "stdout",
     "output_type": "stream",
     "text": [
      "Starting Cost = 1.0585467184410955\n",
      "1-Epoch Cost = 0.45078864377906414\n",
      "2-Epoch Cost = 0.4504741860454569\n",
      "3-Epoch Cost = 0.45036070969336517\n",
      "4-Epoch Cost = 0.45030326906633994\n"
     ]
    },
    {
     "data": {
      "image/png": "[encoded data removed]",
      "text/plain": [
       "<Figure size 1000x800 with 1 Axes>"
      ]
     },
     "metadata": {},
     "output_type": "display_data"
    }
   ],
   "source": [
    "# Train your network with stochastic gradient descent!\n",
    "net.train(flat_train_X, onehot_train_y)\n",
    "\n",
    "\n",
    "# Visualize the mean squared error over the training process \n",
    "plt.figure(figsize = (10, 8))\n",
    "epochs = range(len(net.errors_))\n",
    "plt.plot(epochs, net.errors_, marker = \"o\")\n",
    "plt.xticks(epochs)\n",
    "plt.xlabel(\"epochs\")\n",
    "plt.ylabel(\"Mean Squared Error\")\n",
    "plt.title(\"Network MSE During Training\", fontsize = 16)\n",
    "plt.show()\n"
   ]
  },
  {
   "cell_type": "markdown",
   "id": "0a9cd985",
   "metadata": {},
   "source": [
    "** Remarks **\n",
    "\n",
    "- We see the MSE dropping significantly after 1 epoch to around 0.45, but plateauing at around 0.45 from there on. \n",
    "\n",
    "- We will now have the model make a few random predictions for a few pictures from the dataset:"
   ]
  },
  {
   "cell_type": "code",
   "execution_count": 60,
   "id": "62eb3aed",
   "metadata": {},
   "outputs": [
    {
     "name": "stdout",
     "output_type": "stream",
     "text": [
      "predicted digit is: 2\n",
      "actual digit is: 8\n"
     ]
    },
    {
     "data": {
      "image/png": "[encoded data removed]",
      "text/plain": [
       "<Figure size 800x800 with 1 Axes>"
      ]
     },
     "metadata": {},
     "output_type": "display_data"
    }
   ],
   "source": [
    "i = np.random.randint(0, len(flat_test_X))\n",
    "prediction = net.predict(flat_test_X[i])\n",
    "print(f\"predicted digit is: {prediction}\")\n",
    "print(f\"actual digit is: {np.argmax(onehot_test_y[i])}\")\n",
    "plt.figure(figsize=(8, 8))\n",
    "plt.imshow(X_test[i], cmap=\"gray\")\n",
    "plt.show()"
   ]
  },
  {
   "cell_type": "code",
   "execution_count": 61,
   "id": "999faca1",
   "metadata": {},
   "outputs": [
    {
     "name": "stdout",
     "output_type": "stream",
     "text": [
      "predicted digit is: 2\n",
      "actual digit is: 3\n"
     ]
    },
    {
     "data": {
      "image/png": "[encoded data removed]",
      "text/plain": [
       "<Figure size 800x800 with 1 Axes>"
      ]
     },
     "metadata": {},
     "output_type": "display_data"
    }
   ],
   "source": [
    "i = np.random.randint(0, len(flat_test_X))\n",
    "prediction = net.predict(flat_test_X[i])\n",
    "print(f\"predicted digit is: {prediction}\")\n",
    "print(f\"actual digit is: {np.argmax(onehot_test_y[i])}\")\n",
    "plt.figure(figsize=(8, 8))\n",
    "plt.imshow(X_test[i], cmap=\"gray\")\n",
    "plt.show()"
   ]
  },
  {
   "cell_type": "code",
   "execution_count": 62,
   "id": "a48c0abe",
   "metadata": {},
   "outputs": [
    {
     "name": "stdout",
     "output_type": "stream",
     "text": [
      "predicted digit is: 2\n",
      "actual digit is: 5\n"
     ]
    },
    {
     "data": {
      "image/png": "[encoded data removed]",
      "text/plain": [
       "<Figure size 800x800 with 1 Axes>"
      ]
     },
     "metadata": {},
     "output_type": "display_data"
    }
   ],
   "source": [
    "i = np.random.randint(0, len(flat_test_X))\n",
    "prediction = net.predict(flat_test_X[i])\n",
    "print(f\"predicted digit is: {prediction}\")\n",
    "print(f\"actual digit is: {np.argmax(onehot_test_y[i])}\")\n",
    "plt.figure(figsize=(8, 8))\n",
    "plt.imshow(X_test[i], cmap=\"gray\")\n",
    "plt.show()"
   ]
  },
  {
   "cell_type": "markdown",
   "id": "451c8c2b",
   "metadata": {},
   "source": [
    "** Remarks **\n",
    "\n",
    "- Very strange.. all predictions are 2's, and its certainly not by chance as checking some predicted label yield:"
   ]
  },
  {
   "cell_type": "code",
   "execution_count": 63,
   "id": "366306f5",
   "metadata": {},
   "outputs": [
    {
     "name": "stdout",
     "output_type": "stream",
     "text": [
      "Predicted: 2, Actual: 2\n",
      "Predicted: 2, Actual: 0\n",
      "Predicted: 2, Actual: 0\n",
      "Predicted: 2, Actual: 1\n",
      "Predicted: 2, Actual: 2\n",
      "Predicted: 2, Actual: 7\n",
      "Predicted: 2, Actual: 9\n",
      "Predicted: 2, Actual: 5\n",
      "Predicted: 2, Actual: 8\n",
      "Predicted: 2, Actual: 8\n"
     ]
    }
   ],
   "source": [
    "# Check predicted labels for several random test inputs\n",
    "for _ in range(10):\n",
    "    i = np.random.randint(0, len(flat_test_X))\n",
    "    y_hat = net.predict(flat_test_X[i])\n",
    "    print(f\"Predicted: {y_hat}, Actual: {np.argmax(onehot_test_y[i])}\")\n"
   ]
  },
  {
   "cell_type": "markdown",
   "id": "4577a2bd",
   "metadata": {},
   "source": [
    "** Remarks **\n",
    "\n",
    "- looks like the model has somehow collapsed into always predicting one class, likely because either the loss function is being minimized more easily by favoring 2, or the gradients aren’t helping the network separate other classes.\n",
    "\n",
    "- This can be allieviated if we use a a different cost function as MSE is not well-suited for classification, but for our purpose this has been a really good case study on when models can go \"wrong\" even if everything appeared to be working. \n",
    "\n",
    "- This explains why the MSE dropped initially but stablized, as the model started to make the same predictions for every epoch after the 1st. \n"
   ]
  },
  {
   "cell_type": "markdown",
   "id": "607c8a18",
   "metadata": {},
   "source": [
    "# Conclusions\n",
    "\n",
    "- This has been a really valuable learning experience that even when the model initiates and trains properly, metrics appear to be going in the right direction(MSE decreasing), the output can still be complete nonsense due to fundamental problems in the model. In this case, we had a mode collapse where the model started making the same predictions for every input.\n",
    "\n",
    "- I do hope to come back to this dataset for a future algorithm to see if we can do better"
   ]
  }
 ],
 "metadata": {
  "kernelspec": {
   "display_name": "Python 3",
   "language": "python",
   "name": "python3"
  },
  "language_info": {
   "codemirror_mode": {
    "name": "ipython",
    "version": 3
   },
   "file_extension": ".py",
   "mimetype": "text/x-python",
   "name": "python",
   "nbconvert_exporter": "python",
   "pygments_lexer": "ipython3",
   "version": "3.12.6"
  }
 },
 "nbformat": 4,
 "nbformat_minor": 5
}
