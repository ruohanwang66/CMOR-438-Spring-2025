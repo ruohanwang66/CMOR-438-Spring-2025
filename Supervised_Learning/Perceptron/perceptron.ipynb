{
 "cells": [
  {
   "cell_type": "markdown",
   "id": "a96be5be",
   "metadata": {},
   "source": [
    "Here we will implement perceptron on data from the financial market to try to classify the market as either bullish or bearish based on index returns.\n",
    "\n",
    "\n"
   ]
  },
  {
   "cell_type": "markdown",
   "id": "a80e4941",
   "metadata": {},
   "source": [
    "# Importing libraries and fetching data with YFinance"
   ]
  },
  {
   "cell_type": "code",
   "execution_count": null,
   "id": "0a77382d",
   "metadata": {},
   "outputs": [],
   "source": [
    "import kagglehub\n",
    "\n",
    "# Download latest version\n",
    "path = kagglehub.dataset_download(\"yasserh/titanic-dataset\")\n",
    "\n",
    "print(\"Path to dataset files:\", path)"
   ]
  }
 ],
 "metadata": {
  "kernelspec": {
   "display_name": "Python 3",
   "language": "python",
   "name": "python3"
  },
  "language_info": {
   "codemirror_mode": {
    "name": "ipython",
    "version": 3
   },
   "file_extension": ".py",
   "mimetype": "text/x-python",
   "name": "python",
   "nbconvert_exporter": "python",
   "pygments_lexer": "ipython3",
   "version": "3.12.6"
  }
 },
 "nbformat": 4,
 "nbformat_minor": 5
}
