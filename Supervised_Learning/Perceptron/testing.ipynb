{
 "cells": [
  {
   "cell_type": "code",
   "execution_count": null,
   "id": "29ff02c5",
   "metadata": {},
   "outputs": [],
   "source": [
    "import yfinance as yf\n",
    "import pandas as pd\n",
    "import numpy as np\n",
    "import matplotlib.pyplot as plt\n",
    "from sklearn.decomposition import PCA\n",
    "from sklearn.preprocessing import StandardScaler\n",
    "\n",
    "# Download stock data (you can replace 'AAPL' with any stock ticker)\n",
    "stock = yf.download(\"AAPL\", start=\"2020-01-01\", end=\"2024-01-01\")\n",
    "\n",
    "# Calculate technical indicators: 50-day and 200-day SMA\n",
    "stock['SMA_50'] = stock['Close'].rolling(50).mean()\n",
    "stock['SMA_200'] = stock['Close'].rolling(200).mean()\n",
    "\n",
    "# Signal for crossover: 1 if 50-day SMA crosses above 200-day SMA, 0 if below\n",
    "stock['Signal'] = np.where(stock['SMA_50'] > stock['SMA_200'], 1, 0)\n",
    "\n",
    "# Lagged return as feature (future price movement)\n",
    "stock['Return'] = stock['Close'].pct_change().shift(-1)\n",
    "\n",
    "# Drop missing values\n",
    "data = stock.dropna()\n",
    "\n",
    "# Features (SMA crossover and lagged return)\n",
    "X = data[['SMA_50', 'SMA_200', 'Return']]\n",
    "y = data['Signal']\n",
    "\n",
    "# Scale features\n",
    "X_scaled = StandardScaler().fit_transform(X)\n",
    "\n",
    "# PCA to visualize separability\n",
    "pca = PCA(n_components=2)\n",
    "X_pca = pca.fit_transform(X_scaled)\n",
    "\n",
    "# Plot\n",
    "plt.figure(figsize=(8, 6))\n",
    "plt.scatter(X_pca[:, 0], X_pca[:, 1], c=y, cmap='bwr', alpha=0.6)\n",
    "plt.xlabel('PCA 1')\n",
    "plt.ylabel('PCA 2')\n",
    "plt.title('PCA of 50-day vs. 200-day SMA Crossover and Lagged Return')\n",
    "plt.grid(True)\n",
    "plt.show()\n"
   ]
  }
 ],
 "metadata": {
  "language_info": {
   "name": "python"
  }
 },
 "nbformat": 4,
 "nbformat_minor": 5
}
